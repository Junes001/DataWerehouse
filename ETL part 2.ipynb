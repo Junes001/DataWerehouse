{
 "cells": [
  {
   "cell_type": "code",
   "execution_count": 9,
   "id": "fbdc63ce",
   "metadata": {},
   "outputs": [],
   "source": [
    "import mysql.connector\n",
    "import pandas as pd\n",
    "from sqlalchemy import create_engine\n",
    "\n"
   ]
  },
  {
   "cell_type": "code",
   "execution_count": 10,
   "id": "2c25ba67",
   "metadata": {},
   "outputs": [
    {
     "name": "stderr",
     "output_type": "stream",
     "text": [
      "C:\\Users\\June\\AppData\\Local\\Temp\\ipykernel_19540\\1986651500.py:4: DtypeWarning: Columns (1,2) have mixed types. Specify dtype option on import or set low_memory=False.\n",
      "  dfDelivery = pd.read_csv('C:\\\\Users\\\\June\\\\DataWarehouse&BI\\\\Delivery.csv')\n"
     ]
    }
   ],
   "source": [
    "# đọc tệp CSV và lưu dữ liệu vào DataFrame\n",
    "dfOrder = pd.read_csv('C:\\\\Users\\\\June\\\\DataWarehouse&BI\\\\Order.csv')\n",
    "dfProduct = pd.read_csv('C:\\\\Users\\\\June\\\\DataWarehouse&BI\\\\Product.csv')\n",
    "dfDelivery = pd.read_csv('C:\\\\Users\\\\June\\\\DataWarehouse&BI\\\\Delivery.csv')\n",
    "dfDetailOrder = pd.read_csv('C:\\\\Users\\\\June\\\\DataWarehouse&BI\\\\DetailOrder.csv',low_memory=Fasle)\n",
    "dfCustomer = pd.read_csv('C:\\\\Users\\\\June\\\\DataWarehouse&BI\\\\Customer.csv')\n",
    "dfCategory = pd.read_csv('C:\\\\Users\\\\June\\\\DataWarehouse&BI\\\\Category.csv')\n",
    "dfDepartment = pd.read_csv('C:\\\\Users\\\\June\\\\DataWarehouse&BI\\\\Department.csv')\n"
   ]
  },
  {
   "cell_type": "code",
   "execution_count": 45,
   "id": "ae9e327e",
   "metadata": {},
   "outputs": [
    {
     "name": "stdout",
     "output_type": "stream",
     "text": [
      "Order Id                           int64\n",
      "Delivery Status                   object\n",
      "Shipping Mode                     object\n",
      "shipping day                     float64\n",
      "shipping month                   float64\n",
      "shipping quarter                 float64\n",
      "shipping year                    float64\n",
      "Days for shipment (scheduled)    float64\n",
      "Days for shipping (real)         float64\n",
      "Late delivery risk               float64\n",
      "dtype: object\n"
     ]
    },
    {
     "ename": "IntCastingNaNError",
     "evalue": "Cannot convert non-finite values (NA or inf) to integer",
     "output_type": "error",
     "traceback": [
      "\u001b[1;31m---------------------------------------------------------------------------\u001b[0m",
      "\u001b[1;31mIntCastingNaNError\u001b[0m                        Traceback (most recent call last)",
      "Cell \u001b[1;32mIn[45], line 2\u001b[0m\n\u001b[0;32m      1\u001b[0m \u001b[38;5;28mprint\u001b[39m(dfDelivery\u001b[38;5;241m.\u001b[39mdtypes)\n\u001b[1;32m----> 2\u001b[0m dfDelivery[\u001b[38;5;124m'\u001b[39m\u001b[38;5;124mshipping day\u001b[39m\u001b[38;5;124m'\u001b[39m] \u001b[38;5;241m=\u001b[39m \u001b[43mdfDelivery\u001b[49m\u001b[43m[\u001b[49m\u001b[38;5;124;43m'\u001b[39;49m\u001b[38;5;124;43mshipping day\u001b[39;49m\u001b[38;5;124;43m'\u001b[39;49m\u001b[43m]\u001b[49m\u001b[38;5;241;43m.\u001b[39;49m\u001b[43mastype\u001b[49m\u001b[43m(\u001b[49m\u001b[38;5;28;43mint\u001b[39;49m\u001b[43m)\u001b[49m\n\u001b[0;32m      3\u001b[0m dfDelivery[\u001b[38;5;124m'\u001b[39m\u001b[38;5;124mshipping month\u001b[39m\u001b[38;5;124m'\u001b[39m] \u001b[38;5;241m=\u001b[39m dfDelivery[\u001b[38;5;124m'\u001b[39m\u001b[38;5;124mshipping month\u001b[39m\u001b[38;5;124m'\u001b[39m]\u001b[38;5;241m.\u001b[39mastype(\u001b[38;5;28mint\u001b[39m)\n\u001b[0;32m      4\u001b[0m dfDelivery[\u001b[38;5;124m'\u001b[39m\u001b[38;5;124mshipping quarter\u001b[39m\u001b[38;5;124m'\u001b[39m] \u001b[38;5;241m=\u001b[39m dfDelivery[\u001b[38;5;124m'\u001b[39m\u001b[38;5;124mshipping quarter\u001b[39m\u001b[38;5;124m'\u001b[39m]\u001b[38;5;241m.\u001b[39mastype(\u001b[38;5;28mint\u001b[39m)\n",
      "File \u001b[1;32m~\\anaconda3\\lib\\site-packages\\pandas\\core\\generic.py:6240\u001b[0m, in \u001b[0;36mNDFrame.astype\u001b[1;34m(self, dtype, copy, errors)\u001b[0m\n\u001b[0;32m   6233\u001b[0m     results \u001b[38;5;241m=\u001b[39m [\n\u001b[0;32m   6234\u001b[0m         \u001b[38;5;28mself\u001b[39m\u001b[38;5;241m.\u001b[39miloc[:, i]\u001b[38;5;241m.\u001b[39mastype(dtype, copy\u001b[38;5;241m=\u001b[39mcopy)\n\u001b[0;32m   6235\u001b[0m         \u001b[38;5;28;01mfor\u001b[39;00m i \u001b[38;5;129;01min\u001b[39;00m \u001b[38;5;28mrange\u001b[39m(\u001b[38;5;28mlen\u001b[39m(\u001b[38;5;28mself\u001b[39m\u001b[38;5;241m.\u001b[39mcolumns))\n\u001b[0;32m   6236\u001b[0m     ]\n\u001b[0;32m   6238\u001b[0m \u001b[38;5;28;01melse\u001b[39;00m:\n\u001b[0;32m   6239\u001b[0m     \u001b[38;5;66;03m# else, only a single dtype is given\u001b[39;00m\n\u001b[1;32m-> 6240\u001b[0m     new_data \u001b[38;5;241m=\u001b[39m \u001b[38;5;28;43mself\u001b[39;49m\u001b[38;5;241;43m.\u001b[39;49m\u001b[43m_mgr\u001b[49m\u001b[38;5;241;43m.\u001b[39;49m\u001b[43mastype\u001b[49m\u001b[43m(\u001b[49m\u001b[43mdtype\u001b[49m\u001b[38;5;241;43m=\u001b[39;49m\u001b[43mdtype\u001b[49m\u001b[43m,\u001b[49m\u001b[43m \u001b[49m\u001b[43mcopy\u001b[49m\u001b[38;5;241;43m=\u001b[39;49m\u001b[43mcopy\u001b[49m\u001b[43m,\u001b[49m\u001b[43m \u001b[49m\u001b[43merrors\u001b[49m\u001b[38;5;241;43m=\u001b[39;49m\u001b[43merrors\u001b[49m\u001b[43m)\u001b[49m\n\u001b[0;32m   6241\u001b[0m     \u001b[38;5;28;01mreturn\u001b[39;00m \u001b[38;5;28mself\u001b[39m\u001b[38;5;241m.\u001b[39m_constructor(new_data)\u001b[38;5;241m.\u001b[39m__finalize__(\u001b[38;5;28mself\u001b[39m, method\u001b[38;5;241m=\u001b[39m\u001b[38;5;124m\"\u001b[39m\u001b[38;5;124mastype\u001b[39m\u001b[38;5;124m\"\u001b[39m)\n\u001b[0;32m   6243\u001b[0m \u001b[38;5;66;03m# GH 33113: handle empty frame or series\u001b[39;00m\n",
      "File \u001b[1;32m~\\anaconda3\\lib\\site-packages\\pandas\\core\\internals\\managers.py:448\u001b[0m, in \u001b[0;36mBaseBlockManager.astype\u001b[1;34m(self, dtype, copy, errors)\u001b[0m\n\u001b[0;32m    447\u001b[0m \u001b[38;5;28;01mdef\u001b[39;00m \u001b[38;5;21mastype\u001b[39m(\u001b[38;5;28mself\u001b[39m: T, dtype, copy: \u001b[38;5;28mbool\u001b[39m \u001b[38;5;241m=\u001b[39m \u001b[38;5;28;01mFalse\u001b[39;00m, errors: \u001b[38;5;28mstr\u001b[39m \u001b[38;5;241m=\u001b[39m \u001b[38;5;124m\"\u001b[39m\u001b[38;5;124mraise\u001b[39m\u001b[38;5;124m\"\u001b[39m) \u001b[38;5;241m-\u001b[39m\u001b[38;5;241m>\u001b[39m T:\n\u001b[1;32m--> 448\u001b[0m     \u001b[38;5;28;01mreturn\u001b[39;00m \u001b[38;5;28;43mself\u001b[39;49m\u001b[38;5;241;43m.\u001b[39;49m\u001b[43mapply\u001b[49m\u001b[43m(\u001b[49m\u001b[38;5;124;43m\"\u001b[39;49m\u001b[38;5;124;43mastype\u001b[39;49m\u001b[38;5;124;43m\"\u001b[39;49m\u001b[43m,\u001b[49m\u001b[43m \u001b[49m\u001b[43mdtype\u001b[49m\u001b[38;5;241;43m=\u001b[39;49m\u001b[43mdtype\u001b[49m\u001b[43m,\u001b[49m\u001b[43m \u001b[49m\u001b[43mcopy\u001b[49m\u001b[38;5;241;43m=\u001b[39;49m\u001b[43mcopy\u001b[49m\u001b[43m,\u001b[49m\u001b[43m \u001b[49m\u001b[43merrors\u001b[49m\u001b[38;5;241;43m=\u001b[39;49m\u001b[43merrors\u001b[49m\u001b[43m)\u001b[49m\n",
      "File \u001b[1;32m~\\anaconda3\\lib\\site-packages\\pandas\\core\\internals\\managers.py:352\u001b[0m, in \u001b[0;36mBaseBlockManager.apply\u001b[1;34m(self, f, align_keys, ignore_failures, **kwargs)\u001b[0m\n\u001b[0;32m    350\u001b[0m         applied \u001b[38;5;241m=\u001b[39m b\u001b[38;5;241m.\u001b[39mapply(f, \u001b[38;5;241m*\u001b[39m\u001b[38;5;241m*\u001b[39mkwargs)\n\u001b[0;32m    351\u001b[0m     \u001b[38;5;28;01melse\u001b[39;00m:\n\u001b[1;32m--> 352\u001b[0m         applied \u001b[38;5;241m=\u001b[39m \u001b[38;5;28mgetattr\u001b[39m(b, f)(\u001b[38;5;241m*\u001b[39m\u001b[38;5;241m*\u001b[39mkwargs)\n\u001b[0;32m    353\u001b[0m \u001b[38;5;28;01mexcept\u001b[39;00m (\u001b[38;5;167;01mTypeError\u001b[39;00m, \u001b[38;5;167;01mNotImplementedError\u001b[39;00m):\n\u001b[0;32m    354\u001b[0m     \u001b[38;5;28;01mif\u001b[39;00m \u001b[38;5;129;01mnot\u001b[39;00m ignore_failures:\n",
      "File \u001b[1;32m~\\anaconda3\\lib\\site-packages\\pandas\\core\\internals\\blocks.py:526\u001b[0m, in \u001b[0;36mBlock.astype\u001b[1;34m(self, dtype, copy, errors)\u001b[0m\n\u001b[0;32m    508\u001b[0m \u001b[38;5;124;03m\"\"\"\u001b[39;00m\n\u001b[0;32m    509\u001b[0m \u001b[38;5;124;03mCoerce to the new dtype.\u001b[39;00m\n\u001b[0;32m    510\u001b[0m \n\u001b[1;32m   (...)\u001b[0m\n\u001b[0;32m    522\u001b[0m \u001b[38;5;124;03mBlock\u001b[39;00m\n\u001b[0;32m    523\u001b[0m \u001b[38;5;124;03m\"\"\"\u001b[39;00m\n\u001b[0;32m    524\u001b[0m values \u001b[38;5;241m=\u001b[39m \u001b[38;5;28mself\u001b[39m\u001b[38;5;241m.\u001b[39mvalues\n\u001b[1;32m--> 526\u001b[0m new_values \u001b[38;5;241m=\u001b[39m \u001b[43mastype_array_safe\u001b[49m\u001b[43m(\u001b[49m\u001b[43mvalues\u001b[49m\u001b[43m,\u001b[49m\u001b[43m \u001b[49m\u001b[43mdtype\u001b[49m\u001b[43m,\u001b[49m\u001b[43m \u001b[49m\u001b[43mcopy\u001b[49m\u001b[38;5;241;43m=\u001b[39;49m\u001b[43mcopy\u001b[49m\u001b[43m,\u001b[49m\u001b[43m \u001b[49m\u001b[43merrors\u001b[49m\u001b[38;5;241;43m=\u001b[39;49m\u001b[43merrors\u001b[49m\u001b[43m)\u001b[49m\n\u001b[0;32m    528\u001b[0m new_values \u001b[38;5;241m=\u001b[39m maybe_coerce_values(new_values)\n\u001b[0;32m    529\u001b[0m newb \u001b[38;5;241m=\u001b[39m \u001b[38;5;28mself\u001b[39m\u001b[38;5;241m.\u001b[39mmake_block(new_values)\n",
      "File \u001b[1;32m~\\anaconda3\\lib\\site-packages\\pandas\\core\\dtypes\\astype.py:299\u001b[0m, in \u001b[0;36mastype_array_safe\u001b[1;34m(values, dtype, copy, errors)\u001b[0m\n\u001b[0;32m    296\u001b[0m     \u001b[38;5;28;01mreturn\u001b[39;00m values\u001b[38;5;241m.\u001b[39mcopy()\n\u001b[0;32m    298\u001b[0m \u001b[38;5;28;01mtry\u001b[39;00m:\n\u001b[1;32m--> 299\u001b[0m     new_values \u001b[38;5;241m=\u001b[39m \u001b[43mastype_array\u001b[49m\u001b[43m(\u001b[49m\u001b[43mvalues\u001b[49m\u001b[43m,\u001b[49m\u001b[43m \u001b[49m\u001b[43mdtype\u001b[49m\u001b[43m,\u001b[49m\u001b[43m \u001b[49m\u001b[43mcopy\u001b[49m\u001b[38;5;241;43m=\u001b[39;49m\u001b[43mcopy\u001b[49m\u001b[43m)\u001b[49m\n\u001b[0;32m    300\u001b[0m \u001b[38;5;28;01mexcept\u001b[39;00m (\u001b[38;5;167;01mValueError\u001b[39;00m, \u001b[38;5;167;01mTypeError\u001b[39;00m):\n\u001b[0;32m    301\u001b[0m     \u001b[38;5;66;03m# e.g. astype_nansafe can fail on object-dtype of strings\u001b[39;00m\n\u001b[0;32m    302\u001b[0m     \u001b[38;5;66;03m#  trying to convert to float\u001b[39;00m\n\u001b[0;32m    303\u001b[0m     \u001b[38;5;28;01mif\u001b[39;00m errors \u001b[38;5;241m==\u001b[39m \u001b[38;5;124m\"\u001b[39m\u001b[38;5;124mignore\u001b[39m\u001b[38;5;124m\"\u001b[39m:\n",
      "File \u001b[1;32m~\\anaconda3\\lib\\site-packages\\pandas\\core\\dtypes\\astype.py:230\u001b[0m, in \u001b[0;36mastype_array\u001b[1;34m(values, dtype, copy)\u001b[0m\n\u001b[0;32m    227\u001b[0m     values \u001b[38;5;241m=\u001b[39m values\u001b[38;5;241m.\u001b[39mastype(dtype, copy\u001b[38;5;241m=\u001b[39mcopy)\n\u001b[0;32m    229\u001b[0m \u001b[38;5;28;01melse\u001b[39;00m:\n\u001b[1;32m--> 230\u001b[0m     values \u001b[38;5;241m=\u001b[39m \u001b[43mastype_nansafe\u001b[49m\u001b[43m(\u001b[49m\u001b[43mvalues\u001b[49m\u001b[43m,\u001b[49m\u001b[43m \u001b[49m\u001b[43mdtype\u001b[49m\u001b[43m,\u001b[49m\u001b[43m \u001b[49m\u001b[43mcopy\u001b[49m\u001b[38;5;241;43m=\u001b[39;49m\u001b[43mcopy\u001b[49m\u001b[43m)\u001b[49m\n\u001b[0;32m    232\u001b[0m \u001b[38;5;66;03m# in pandas we don't store numpy str dtypes, so convert to object\u001b[39;00m\n\u001b[0;32m    233\u001b[0m \u001b[38;5;28;01mif\u001b[39;00m \u001b[38;5;28misinstance\u001b[39m(dtype, np\u001b[38;5;241m.\u001b[39mdtype) \u001b[38;5;129;01mand\u001b[39;00m \u001b[38;5;28missubclass\u001b[39m(values\u001b[38;5;241m.\u001b[39mdtype\u001b[38;5;241m.\u001b[39mtype, \u001b[38;5;28mstr\u001b[39m):\n",
      "File \u001b[1;32m~\\anaconda3\\lib\\site-packages\\pandas\\core\\dtypes\\astype.py:140\u001b[0m, in \u001b[0;36mastype_nansafe\u001b[1;34m(arr, dtype, copy, skipna)\u001b[0m\n\u001b[0;32m    137\u001b[0m     \u001b[38;5;28;01mraise\u001b[39;00m \u001b[38;5;167;01mTypeError\u001b[39;00m(\u001b[38;5;124mf\u001b[39m\u001b[38;5;124m\"\u001b[39m\u001b[38;5;124mcannot astype a timedelta from [\u001b[39m\u001b[38;5;132;01m{\u001b[39;00marr\u001b[38;5;241m.\u001b[39mdtype\u001b[38;5;132;01m}\u001b[39;00m\u001b[38;5;124m] to [\u001b[39m\u001b[38;5;132;01m{\u001b[39;00mdtype\u001b[38;5;132;01m}\u001b[39;00m\u001b[38;5;124m]\u001b[39m\u001b[38;5;124m\"\u001b[39m)\n\u001b[0;32m    139\u001b[0m \u001b[38;5;28;01melif\u001b[39;00m np\u001b[38;5;241m.\u001b[39missubdtype(arr\u001b[38;5;241m.\u001b[39mdtype, np\u001b[38;5;241m.\u001b[39mfloating) \u001b[38;5;129;01mand\u001b[39;00m is_integer_dtype(dtype):\n\u001b[1;32m--> 140\u001b[0m     \u001b[38;5;28;01mreturn\u001b[39;00m \u001b[43m_astype_float_to_int_nansafe\u001b[49m\u001b[43m(\u001b[49m\u001b[43marr\u001b[49m\u001b[43m,\u001b[49m\u001b[43m \u001b[49m\u001b[43mdtype\u001b[49m\u001b[43m,\u001b[49m\u001b[43m \u001b[49m\u001b[43mcopy\u001b[49m\u001b[43m)\u001b[49m\n\u001b[0;32m    142\u001b[0m \u001b[38;5;28;01melif\u001b[39;00m is_object_dtype(arr\u001b[38;5;241m.\u001b[39mdtype):\n\u001b[0;32m    143\u001b[0m \n\u001b[0;32m    144\u001b[0m     \u001b[38;5;66;03m# if we have a datetime/timedelta array of objects\u001b[39;00m\n\u001b[0;32m    145\u001b[0m     \u001b[38;5;66;03m# then coerce to a proper dtype and recall astype_nansafe\u001b[39;00m\n\u001b[0;32m    147\u001b[0m     \u001b[38;5;28;01mif\u001b[39;00m is_datetime64_dtype(dtype):\n",
      "File \u001b[1;32m~\\anaconda3\\lib\\site-packages\\pandas\\core\\dtypes\\astype.py:182\u001b[0m, in \u001b[0;36m_astype_float_to_int_nansafe\u001b[1;34m(values, dtype, copy)\u001b[0m\n\u001b[0;32m    178\u001b[0m \u001b[38;5;124;03m\"\"\"\u001b[39;00m\n\u001b[0;32m    179\u001b[0m \u001b[38;5;124;03mastype with a check preventing converting NaN to an meaningless integer value.\u001b[39;00m\n\u001b[0;32m    180\u001b[0m \u001b[38;5;124;03m\"\"\"\u001b[39;00m\n\u001b[0;32m    181\u001b[0m \u001b[38;5;28;01mif\u001b[39;00m \u001b[38;5;129;01mnot\u001b[39;00m np\u001b[38;5;241m.\u001b[39misfinite(values)\u001b[38;5;241m.\u001b[39mall():\n\u001b[1;32m--> 182\u001b[0m     \u001b[38;5;28;01mraise\u001b[39;00m IntCastingNaNError(\n\u001b[0;32m    183\u001b[0m         \u001b[38;5;124m\"\u001b[39m\u001b[38;5;124mCannot convert non-finite values (NA or inf) to integer\u001b[39m\u001b[38;5;124m\"\u001b[39m\n\u001b[0;32m    184\u001b[0m     )\n\u001b[0;32m    185\u001b[0m \u001b[38;5;28;01mif\u001b[39;00m dtype\u001b[38;5;241m.\u001b[39mkind \u001b[38;5;241m==\u001b[39m \u001b[38;5;124m\"\u001b[39m\u001b[38;5;124mu\u001b[39m\u001b[38;5;124m\"\u001b[39m:\n\u001b[0;32m    186\u001b[0m     \u001b[38;5;66;03m# GH#45151\u001b[39;00m\n\u001b[0;32m    187\u001b[0m     \u001b[38;5;28;01mif\u001b[39;00m \u001b[38;5;129;01mnot\u001b[39;00m (values \u001b[38;5;241m>\u001b[39m\u001b[38;5;241m=\u001b[39m \u001b[38;5;241m0\u001b[39m)\u001b[38;5;241m.\u001b[39mall():\n",
      "\u001b[1;31mIntCastingNaNError\u001b[0m: Cannot convert non-finite values (NA or inf) to integer"
     ]
    }
   ],
   "source": [
    "print(dfDelivery.dtypes)\n",
    "dfDelivery['shipping day'] = dfDelivery['shipping day'].astype(int)\n",
    "dfDelivery['shipping month'] = dfDelivery['shipping month'].astype(int)\n",
    "dfDelivery['shipping quarter'] = dfDelivery['shipping quarter'].astype(int)\n",
    "dfDelivery['shipping year'] = dfDelivery['shipping year'].astype(int)\n",
    "dfDelivery['Days for shipment (scheduled)'] = dfDelivery['Days for shipment (scheduled)'].astype(int)\n",
    "dfDelivery['Days for shipping (real)'] = dfDelivery['Days for shipping (real)'].astype(int)\n",
    "dfDelivery['Late delivery risk'] = dfDelivery['Late delivery risk'].astype(int)\n",
    "print(dfDelivery.dtypes)"
   ]
  },
  {
   "cell_type": "code",
   "execution_count": 11,
   "id": "48dc3e92",
   "metadata": {},
   "outputs": [],
   "source": [
    "# kết nối đến cơ sở dữ liệu MySQL\n",
    "mydb = mysql.connector.connect(\n",
    "  host=\"localhost\",\n",
    "  user=\"root\",\n",
    "  password=\"01062002\",\n",
    "  database=\"DW\"\n",
    ")"
   ]
  },
  {
   "cell_type": "code",
   "execution_count": 4,
   "id": "36c42d93",
   "metadata": {},
   "outputs": [
    {
     "name": "stdout",
     "output_type": "stream",
     "text": [
      "Data inserted successfully!\n"
     ]
    }
   ],
   "source": [
    "# chèn dữ liệu từ DataFrame vào cơ sở dữ liệu MySQL\n",
    "try:\n",
    "    # Create a cursor\n",
    "    cursor = mydb.cursor()\n",
    "\n",
    "    # Define the SQL query to insert data into the fact table\n",
    "    for index, row in dfOrder.iterrows():\n",
    "    \n",
    "        sql = \"INSERT INTO `Order`(`Type`, `order_status`, `order_id`, `order_day`, `order_month`, `order_quarter`, `order_year`, `order_region`, `order_item_cardprod_id`, `order_state`, `order_country`, `order_city`, `customer_id`) VALUES (%s, %s, %s,%s, %s, %s,%s, %s, %s,%s, %s, %s,%s)\"\n",
    "\n",
    "        val = (row['Type'], row['Order Status'], row['Order Id'],row['order day'], row['order month'], row['order quarter'],row['order year'], row['Order Region'], row['Order Item Cardprod Id'], row['Order State'],row['Order Country'], row['Order City'], row['Customer Id'])\n",
    "        cursor.execute(sql, val)\n",
    "    # Commit the changes\n",
    "    mydb.commit()\n",
    "\n",
    "    print(\"Data inserted successfully!\")\n",
    "\n",
    "except mysql.connector.Error as error:\n",
    "    print(f\"Error: {error}\")\n",
    "\n",
    "\n"
   ]
  },
  {
   "cell_type": "code",
   "execution_count": 6,
   "id": "656dd001",
   "metadata": {},
   "outputs": [
    {
     "name": "stdout",
     "output_type": "stream",
     "text": [
      "Data inserted successfully!\n"
     ]
    }
   ],
   "source": [
    "try:\n",
    "    # Create a cursor\n",
    "    cursor = mydb.cursor()\n",
    "\n",
    "    for index, row in dfProduct.iterrows():\n",
    "        sql = \"INSERT INTO Product (Product_Name, Product_Price, Product_Card_Id, Category_Id) VALUES (%s, %s, %s, %s)\"\n",
    "        val = (row['Product Name'], row['Product Price'], row['Product Card Id'], row['Category Id'])\n",
    "        cursor.execute(sql, val)\n",
    "    \n",
    "\n",
    "    # Commit the changes\n",
    "    mydb.commit()\n",
    "\n",
    "    print(\"Data inserted successfully!\")\n",
    "\n",
    "except mysql.connector.Error as error:\n",
    "    print(f\"Error: {error}\")\n",
    "    \n"
   ]
  },
  {
   "cell_type": "code",
   "execution_count": 32,
   "id": "da0a6d38",
   "metadata": {},
   "outputs": [
    {
     "name": "stdout",
     "output_type": "stream",
     "text": [
      "Total rows: 65741\n",
      "Total columns: 10\n"
     ]
    }
   ],
   "source": [
    "row_count, column_count = dfDelivery.shape\n",
    "\n",
    "print(f'Total rows: {row_count}')\n",
    "print(f'Total columns: {column_count}')"
   ]
  },
  {
   "cell_type": "code",
   "execution_count": 33,
   "id": "6cd05864",
   "metadata": {},
   "outputs": [
    {
     "name": "stdout",
     "output_type": "stream",
     "text": [
      "       Order Id Delivery Status Shipping Mode  shipping day  shipping month  \\\n",
      "15619      2231             NaN           NaN           NaN             NaN   \n",
      "15620     55165             NaN           NaN           NaN             NaN   \n",
      "15621      2238             NaN           NaN           NaN             NaN   \n",
      "15622      4705             NaN           NaN           NaN             NaN   \n",
      "15623     57211             NaN           NaN           NaN             NaN   \n",
      "...         ...             ...           ...           ...             ...   \n",
      "65736     26773             NaN           NaN           NaN             NaN   \n",
      "65737     26463             NaN           NaN           NaN             NaN   \n",
      "65738     26383             NaN           NaN           NaN             NaN   \n",
      "65739     26327             NaN           NaN           NaN             NaN   \n",
      "65740     26118             NaN           NaN           NaN             NaN   \n",
      "\n",
      "       shipping quarter  shipping year  Days for shipment (scheduled)  \\\n",
      "15619               NaN            NaN                            NaN   \n",
      "15620               NaN            NaN                            NaN   \n",
      "15621               NaN            NaN                            NaN   \n",
      "15622               NaN            NaN                            NaN   \n",
      "15623               NaN            NaN                            NaN   \n",
      "...                 ...            ...                            ...   \n",
      "65736               NaN            NaN                            NaN   \n",
      "65737               NaN            NaN                            NaN   \n",
      "65738               NaN            NaN                            NaN   \n",
      "65739               NaN            NaN                            NaN   \n",
      "65740               NaN            NaN                            NaN   \n",
      "\n",
      "       Days for shipping (real)  Late delivery risk  \n",
      "15619                       NaN                 NaN  \n",
      "15620                       NaN                 NaN  \n",
      "15621                       NaN                 NaN  \n",
      "15622                       NaN                 NaN  \n",
      "15623                       NaN                 NaN  \n",
      "...                         ...                 ...  \n",
      "65736                       NaN                 NaN  \n",
      "65737                       NaN                 NaN  \n",
      "65738                       NaN                 NaN  \n",
      "65739                       NaN                 NaN  \n",
      "65740                       NaN                 NaN  \n",
      "\n",
      "[50122 rows x 10 columns]\n"
     ]
    }
   ],
   "source": [
    "# Tìm các hàng có giá trị lỗi\n",
    "error_rows = dfDelivery[dfDelivery.isna().any(axis=1)]\n",
    "\n",
    "# In các hàng có giá trị lỗi\n",
    "print(error_rows)"
   ]
  },
  {
   "cell_type": "code",
   "execution_count": 4,
   "id": "fe3ea247",
   "metadata": {
    "scrolled": true
   },
   "outputs": [
    {
     "name": "stdout",
     "output_type": "stream",
     "text": [
      "Error: 1054 (42S22): Unknown column 'nan' in 'field list'\n"
     ]
    }
   ],
   "source": [
    "try:\n",
    "    # Create a cursor\n",
    "    cursor = mydb.cursor()\n",
    "    dfDelivery.dropna()\n",
    "    \n",
    "    cursor.execute(\"CREATE TABLE delivery (Order_Id INT PRIMARY KEY, Delivery_Status VARCHAR(255), Shipping_Mode VARCHAR(255), Shipping_day INT, Shipping_Month INT, Shipping_Quarter INT, Shipping_Year INT, Days_for_shipment_scheduled INT, Days_for_shipping_real INT, Late_delivery_risk INT)\")\n",
    "\n",
    "    # Define the SQL query to insert data into the fact table\n",
    "    for index, row in dfDelivery.iterrows():\n",
    "        sql = \"INSERT INTO Delivery (Order_Id, Delivery_Status, Shipping_Mode, Shipping_day, Shipping_Month, Shipping_Quarter, Shipping_Year, Days_for_shipment_scheduled, Days_for_shipping_real, Late_delivery_risk) VALUES (%s, %s, %s, %s, %s, %s, %s, %s, %s, %s)\"\n",
    "        val = (row['Order Id'], row['Delivery Status'], row['Shipping Mode'], row['shipping day'], row['shipping month'], row['shipping quarter'], row['shipping year'], row['Days for shipment (scheduled)'], row['Days for shipping (real)'], row['Late delivery risk'])\n",
    "        cursor.execute(sql, val)\n",
    "    \n",
    "\n",
    "    # Commit the changes\n",
    "    mydb.commit()\n",
    "\n",
    "    print(\"Data inserted successfully!\")\n",
    "\n",
    "except mysql.connector.Error as error:\n",
    "    print(f\"Error: {error}\")\n",
    "    "
   ]
  },
  {
   "cell_type": "code",
   "execution_count": 5,
   "id": "afe34f15",
   "metadata": {},
   "outputs": [
    {
     "name": "stdout",
     "output_type": "stream",
     "text": [
      "Error: 1050 (42S01): Table 'detailorder' already exists\n"
     ]
    }
   ],
   "source": [
    "try:\n",
    "    # Create a cursor\n",
    "    cursor = mydb.cursor()\n",
    "    cursor.execute(\"CREATE TABLE detailorder (Order_Item_Total FLOAT, Product_Card_Id INT, Sales FLOAT, Order_Item_Id INT, Order_Item_Quantity INT, Order_Id INT , Benefit_per_order FLOAT, Order_Profit_Per_Order FLOAT, Order_Item_Profit_Ratio FLOAT, Order_Item_Product_Price FLOAT)\")\n",
    "\n",
    "    for index, row in dfDetailOrder.iterrows():\n",
    "        sql = \"INSERT INTO DetailOrder (Order_Item_Total, Product_Card_Id, Sales, Order_Item_Id, Order_Item_Quantity, Order_Id, Benefit_per_order, Order_Profit_Per_Order, Order_Item_Profit_Ratio, Order_Item_Product_Price) VALUES (%s, %s, %s, %s, %s, %s, %s, %s, %s, %s)\"\n",
    "        val = (row['Order Item Total'], row['Product Card Id'], row['Sales'], row['Order Item Id'], row['Order Item Quantity'], row['Order Id'], row['Benefit per order'], row['Order Profit Per Order'], row['Order Item Profit Ratio'], row['Order Item Product Price'])\n",
    "        cursor.execute(sql, val)\n",
    "    \n",
    "\n",
    "    # Commit the changes\n",
    "    mydb.commit()\n",
    "\n",
    "    print(\"Data inserted successfully!\")\n",
    "\n",
    "except mysql.connector.Error as error:\n",
    "    print(f\"Error: {error}\")\n",
    "    "
   ]
  },
  {
   "cell_type": "code",
   "execution_count": 27,
   "id": "4153b0de",
   "metadata": {},
   "outputs": [],
   "source": [
    "dfCategory.drop_duplicates(keep='first', inplace=True)\n",
    "dfCustomer.drop_duplicates(keep='first', inplace=True)\n",
    "dfDepartment.drop_duplicates(keep='first', inplace=True)"
   ]
  },
  {
   "cell_type": "code",
   "execution_count": 29,
   "id": "5f36d44f",
   "metadata": {},
   "outputs": [
    {
     "name": "stdout",
     "output_type": "stream",
     "text": [
      "Error: 1062 (23000): Duplicate entry '20755' for key 'customers.PRIMARY'\n"
     ]
    }
   ],
   "source": [
    "try:\n",
    "    # Create a cursor\n",
    "    cursor = mydb.cursor()\n",
    "    cursor.exectue(\"DROP TABLE customers\")\n",
    "#     cursor.execute(\"CREATE TABLE customers (customer_id INT AUTO_INCREMENT PRIMARY KEY, customer_state VARCHAR(255), customer_country VARCHAR(255), customer_city VARCHAR(255), customer_street VARCHAR(255), customer_segment VARCHAR(255), customer_lname VARCHAR(255), customer_fname VARCHAR(255))\")\n",
    "\n",
    "    for index, row in dfCustomer.iterrows():\n",
    "        sql = \"INSERT INTO customers (customer_id, customer_state, customer_country, customer_city, customer_street, customer_segment, customer_lname, customer_fname) VALUES (%s, %s, %s, %s, %s, %s, %s, %s)\"\n",
    "        val = (row['Customer Id'], row['Customer State'], row['Customer Country'], row['Customer City'], row['Customer Street'], row['Customer Segment'], row['Customer Lname'], row['Customer Fname'])\n",
    "        cursor.execute(sql, val)\n",
    "    \n",
    "\n",
    "    # Commit the changes\n",
    "    mydb.commit()\n",
    "\n",
    "    print(\"Data inserted successfully!\")\n",
    "\n",
    "except mysql.connector.Error as error:\n",
    "    print(f\"Error: {error}\")"
   ]
  },
  {
   "cell_type": "code",
   "execution_count": 23,
   "id": "e868163a",
   "metadata": {},
   "outputs": [
    {
     "name": "stdout",
     "output_type": "stream",
     "text": [
      "Data inserted successfully!\n"
     ]
    }
   ],
   "source": [
    "try:\n",
    "    # Create a cursor\n",
    "    cursor = mydb.cursor()\n",
    "    cursor.execute(\"CREATE TABLE category (category_id INT PRIMARY KEY, category_name VARCHAR(255), department_id INT)\")\n",
    "    for index, row in dfCategory.iterrows():\n",
    "        sql = \"INSERT INTO category (category_id, category_name, department_id) VALUES (%s, %s, %s)\"\n",
    "        val = (row[\"Category Id\"], row[\"Category Name\"],row['Department Id'])\n",
    "        cursor.execute(sql, val)\n",
    "    \n",
    "\n",
    "    # Commit the changes\n",
    "    mydb.commit()\n",
    "\n",
    "    print(\"Data inserted successfully!\")\n",
    "\n",
    "except mysql.connector.Error as error:\n",
    "    print(f\"Error: {error}\")\n"
   ]
  },
  {
   "cell_type": "code",
   "execution_count": 24,
   "id": "5a68a809",
   "metadata": {},
   "outputs": [
    {
     "name": "stdout",
     "output_type": "stream",
     "text": [
      "Data inserted successfully!\n"
     ]
    }
   ],
   "source": [
    "try:\n",
    "    # Create a cursor\n",
    "    cursor = mydb.cursor()\n",
    "    cursor.execute(\"CREATE TABLE department (department_id INT PRIMARY KEY, department_name VARCHAR(255))\")\n",
    "\n",
    "    for index, row in dfDepartment.iterrows():\n",
    "        sql = \"INSERT INTO department (department_id, department_name) VALUES (%s, %s)\"\n",
    "        val = (row['Department Id'], row['Department Name'])\n",
    "        cursor.execute(sql, val)\n",
    "\n",
    "    # Commit the changes\n",
    "    mydb.commit()\n",
    "\n",
    "    print(\"Data inserted successfully!\")\n",
    "\n",
    "except mysql.connector.Error as error:\n",
    "    print(f\"Error: {error}\")"
   ]
  },
  {
   "cell_type": "code",
   "execution_count": null,
   "id": "1577c1be",
   "metadata": {},
   "outputs": [],
   "source": [
    "finally:\n",
    "    # Close the cursor and connection\n",
    "    cursor.close()\n",
    "    mydb.close()"
   ]
  }
 ],
 "metadata": {
  "kernelspec": {
   "display_name": "Python 3 (ipykernel)",
   "language": "python",
   "name": "python3"
  },
  "language_info": {
   "codemirror_mode": {
    "name": "ipython",
    "version": 3
   },
   "file_extension": ".py",
   "mimetype": "text/x-python",
   "name": "python",
   "nbconvert_exporter": "python",
   "pygments_lexer": "ipython3",
   "version": "3.10.9"
  }
 },
 "nbformat": 4,
 "nbformat_minor": 5
}
